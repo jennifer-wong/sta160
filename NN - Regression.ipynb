{
 "cells": [
  {
   "cell_type": "code",
   "execution_count": 102,
   "metadata": {},
   "outputs": [],
   "source": [
    "import pandas as pd\n",
    "import numpy as np\n",
    "from keras.models import Sequential\n",
    "from keras.layers import Dense\n",
    "from keras.wrappers.scikit_learn import KerasRegressor\n",
    "from keras.optimizers import Adam\n",
    "from sklearn.model_selection import cross_val_score\n",
    "from sklearn.model_selection import KFold\n",
    "from sklearn.preprocessing import StandardScaler\n",
    "from sklearn.pipeline import Pipeline\n",
    "from sklearn.model_selection import train_test_split\n",
    "from matplotlib import pyplot"
   ]
  },
  {
   "cell_type": "code",
   "execution_count": 103,
   "metadata": {},
   "outputs": [
    {
     "name": "stderr",
     "output_type": "stream",
     "text": [
      "C:\\Users\\scifa\\Anaconda2\\envs\\python3\\lib\\site-packages\\ipykernel_launcher.py:7: SettingWithCopyWarning: \n",
      "A value is trying to be set on a copy of a slice from a DataFrame.\n",
      "Try using .loc[row_indexer,col_indexer] = value instead\n",
      "\n",
      "See the caveats in the documentation: http://pandas.pydata.org/pandas-docs/stable/indexing.html#indexing-view-versus-copy\n",
      "  import sys\n"
     ]
    }
   ],
   "source": [
    "# data pre-processing\n",
    "data = pd.read_csv('./data/AllMoviesDetailsCleaned.csv', sep=';', low_memory=False)\n",
    "data = data[data.budget != 0]\n",
    "data = data[data.revenue != 0]\n",
    "\n",
    "X = data[['budget', 'popularity']]\n",
    "X[\"popularity\"] = X[\"popularity\"].str.replace(\",\",\".\").astype(float)\n",
    "Y = data.loc[:, 'revenue']"
   ]
  },
  {
   "cell_type": "code",
   "execution_count": 111,
   "metadata": {
    "collapsed": true
   },
   "outputs": [],
   "source": [
    "def baseline_model():\n",
    "# create model\n",
    "    model = Sequential()\n",
    "    model.add(Dense(8, input_dim=2, kernel_initializer='normal', activation='relu'))\n",
    "    model.add(Dense(4, kernel_initializer='normal', activation='relu'))\n",
    "    model.add(Dense(1, activation='linear'))\n",
    "    # Compile model\n",
    "    model.compile(loss='mean_squared_logarithmic_error', optimizer=SGD(lr=0.001, momentum=0.9))\n",
    "    return model"
   ]
  },
  {
   "cell_type": "code",
   "execution_count": 115,
   "metadata": {
    "collapsed": true
   },
   "outputs": [],
   "source": [
    "def plot(history):\n",
    "    pyplot.title('Loss')\n",
    "    pyplot.plot(history.history['loss'], label='train')\n",
    "    pyplot.plot(history.history['val_loss'], label='test')\n",
    "    pyplot.legend()\n",
    "    pyplot.show()"
   ]
  },
  {
   "cell_type": "code",
   "execution_count": 112,
   "metadata": {},
   "outputs": [
    {
     "name": "stdout",
     "output_type": "stream",
     "text": [
      "Train on 4788 samples, validate on 1198 samples\n",
      "Epoch 1/100\n",
      "4788/4788 [==============================] - 4s 902us/step - loss: 4.7279 - val_loss: 3.1058\n",
      "Epoch 2/100\n",
      "4788/4788 [==============================] - 1s 198us/step - loss: 4.1115 - val_loss: 3.1014\n",
      "Epoch 3/100\n",
      "4788/4788 [==============================] - 1s 206us/step - loss: 4.1100 - val_loss: 3.1016\n",
      "Epoch 4/100\n",
      "4788/4788 [==============================] - 1s 211us/step - loss: 4.1122 - val_loss: 3.1101\n",
      "Epoch 5/100\n",
      "4788/4788 [==============================] - 1s 227us/step - loss: 4.1079 - val_loss: 3.1033\n",
      "Epoch 6/100\n",
      "4788/4788 [==============================] - 1s 198us/step - loss: 4.1028 - val_loss: 3.1014\n",
      "Epoch 7/100\n",
      "4788/4788 [==============================] - 1s 199us/step - loss: 4.1039 - val_loss: 3.1118\n",
      "Epoch 8/100\n",
      "4788/4788 [==============================] - 1s 190us/step - loss: 4.1027 - val_loss: 3.1063\n",
      "Epoch 9/100\n",
      "4788/4788 [==============================] - 1s 291us/step - loss: 4.1023 - val_loss: 3.1008\n",
      "Epoch 10/100\n",
      "4788/4788 [==============================] - 1s 194us/step - loss: 4.1005 - val_loss: 3.1024\n",
      "Epoch 11/100\n",
      "4788/4788 [==============================] - 1s 199us/step - loss: 4.1001 - val_loss: 3.1007\n",
      "Epoch 12/100\n",
      "4788/4788 [==============================] - 1s 198us/step - loss: 4.1027 - val_loss: 3.1006\n",
      "Epoch 13/100\n",
      "4788/4788 [==============================] - 1s 202us/step - loss: 4.0941 - val_loss: 3.1006\n",
      "Epoch 14/100\n",
      "4788/4788 [==============================] - 1s 212us/step - loss: 4.1036 - val_loss: 3.1065\n",
      "Epoch 15/100\n",
      "4788/4788 [==============================] - 1s 230us/step - loss: 4.0941 - val_loss: 3.1040\n",
      "Epoch 16/100\n",
      "4788/4788 [==============================] - 1s 187us/step - loss: 4.0931 - val_loss: 3.1039\n",
      "Epoch 17/100\n",
      "4788/4788 [==============================] - 1s 208us/step - loss: 4.0954 - val_loss: 3.1011\n",
      "Epoch 18/100\n",
      "4788/4788 [==============================] - 1s 195us/step - loss: 4.0900 - val_loss: 3.1359\n",
      "Epoch 19/100\n",
      "4788/4788 [==============================] - 1s 214us/step - loss: 4.0913 - val_loss: 3.1018\n",
      "Epoch 20/100\n",
      "4788/4788 [==============================] - 1s 216us/step - loss: 4.0961 - val_loss: 3.1004\n",
      "Epoch 21/100\n",
      "4788/4788 [==============================] - 1s 274us/step - loss: 4.0880 - val_loss: 3.1075\n",
      "Epoch 22/100\n",
      "4788/4788 [==============================] - 2s 345us/step - loss: 4.0881 - val_loss: 3.1007\n",
      "Epoch 23/100\n",
      "4788/4788 [==============================] - 2s 355us/step - loss: 4.0901 - val_loss: 3.1129\n",
      "Epoch 24/100\n",
      "4788/4788 [==============================] - 1s 240us/step - loss: 4.0886 - val_loss: 3.1045\n",
      "Epoch 25/100\n",
      "4788/4788 [==============================] - 1s 252us/step - loss: 4.0887 - val_loss: 3.1004\n",
      "Epoch 26/100\n",
      "4788/4788 [==============================] - 1s 245us/step - loss: 4.0866 - val_loss: 3.1033\n",
      "Epoch 27/100\n",
      "4788/4788 [==============================] - 1s 258us/step - loss: 4.0896 - val_loss: 3.1239\n",
      "Epoch 28/100\n",
      "4788/4788 [==============================] - 1s 218us/step - loss: 4.0863 - val_loss: 3.1031\n",
      "Epoch 29/100\n",
      "4788/4788 [==============================] - 1s 238us/step - loss: 4.0820 - val_loss: 3.1204\n",
      "Epoch 30/100\n",
      "4788/4788 [==============================] - 1s 224us/step - loss: 4.0853 - val_loss: 3.1040\n",
      "Epoch 31/100\n",
      "4788/4788 [==============================] - 1s 237us/step - loss: 4.0838 - val_loss: 3.1008\n",
      "Epoch 32/100\n",
      "4788/4788 [==============================] - 1s 268us/step - loss: 4.0835 - val_loss: 3.1112\n",
      "Epoch 33/100\n",
      "4788/4788 [==============================] - 1s 225us/step - loss: 4.0831 - val_loss: 3.1015\n",
      "Epoch 34/100\n",
      "4788/4788 [==============================] - 1s 218us/step - loss: 4.0838 - val_loss: 3.1183\n",
      "Epoch 35/100\n",
      "4788/4788 [==============================] - 2s 421us/step - loss: 4.0844 - val_loss: 3.1073\n",
      "Epoch 36/100\n",
      "4788/4788 [==============================] - 1s 209us/step - loss: 4.0800 - val_loss: 3.1003\n",
      "Epoch 37/100\n",
      "4788/4788 [==============================] - 1s 257us/step - loss: 4.0834 - val_loss: 3.1056\n",
      "Epoch 38/100\n",
      "4788/4788 [==============================] - 1s 274us/step - loss: 4.0808 - val_loss: 3.1001\n",
      "Epoch 39/100\n",
      "4788/4788 [==============================] - ETA: 0s - loss: 4.0906- ETA: 0s - loss: 4.01 - 1s 287us/step - loss: 4.0815 - val_loss: 3.1014\n",
      "Epoch 40/100\n",
      "4788/4788 [==============================] - 2s 457us/step - loss: 4.0777 - val_loss: 3.1165\n",
      "Epoch 41/100\n",
      "4788/4788 [==============================] - 1s 272us/step - loss: 4.0791 - val_loss: 3.1023\n",
      "Epoch 42/100\n",
      "4788/4788 [==============================] - 1s 241us/step - loss: 4.0762 - val_loss: 3.1082\n",
      "Epoch 43/100\n",
      "4788/4788 [==============================] - 1s 245us/step - loss: 4.0776 - val_loss: 3.1065\n",
      "Epoch 44/100\n",
      "4788/4788 [==============================] - 1s 251us/step - loss: 4.0771 - val_loss: 3.1003\n",
      "Epoch 45/100\n",
      "4788/4788 [==============================] - 1s 310us/step - loss: 4.0749 - val_loss: 3.1022\n",
      "Epoch 46/100\n",
      "4788/4788 [==============================] - 1s 272us/step - loss: 4.0785 - val_loss: 3.1029\n",
      "Epoch 47/100\n",
      "4788/4788 [==============================] - 1s 233us/step - loss: 4.0742 - val_loss: 3.1057\n",
      "Epoch 48/100\n",
      "4788/4788 [==============================] - 1s 244us/step - loss: 4.0746 - val_loss: 3.1056\n",
      "Epoch 49/100\n",
      "4788/4788 [==============================] - 1s 233us/step - loss: 4.0779 - val_loss: 3.1188\n",
      "Epoch 50/100\n",
      "4788/4788 [==============================] - 1s 244us/step - loss: 4.0734 - val_loss: 3.1007\n",
      "Epoch 51/100\n",
      "4788/4788 [==============================] - 1s 224us/step - loss: 4.0697 - val_loss: 3.1031\n",
      "Epoch 52/100\n",
      "4788/4788 [==============================] - 2s 365us/step - loss: 4.0712 - val_loss: 3.1066\n",
      "Epoch 53/100\n",
      "4788/4788 [==============================] - 2s 350us/step - loss: 4.0716 - val_loss: 3.1042A: 0s - lo - ETA: 0s - loss: 4.055\n",
      "Epoch 54/100\n",
      "4788/4788 [==============================] - 2s 324us/step - loss: 4.0726 - val_loss: 3.1058\n",
      "Epoch 55/100\n",
      "4788/4788 [==============================] - 1s 267us/step - loss: 4.0699 - val_loss: 3.1006\n",
      "Epoch 56/100\n",
      "4788/4788 [==============================] - 1s 267us/step - loss: 4.0684 - val_loss: 3.1029\n",
      "Epoch 57/100\n",
      "4788/4788 [==============================] - 1s 269us/step - loss: 4.0687 - val_loss: 3.1017\n",
      "Epoch 58/100\n",
      "4788/4788 [==============================] - 1s 260us/step - loss: 4.0710 - val_loss: 3.1005\n",
      "Epoch 59/100\n",
      "4788/4788 [==============================] - 2s 328us/step - loss: 4.0706 - val_loss: 3.1009\n",
      "Epoch 60/100\n",
      "4788/4788 [==============================] - 2s 389us/step - loss: 4.0665 - val_loss: 3.1007\n",
      "Epoch 61/100\n",
      "4788/4788 [==============================] - 2s 318us/step - loss: 4.0664 - val_loss: 3.1088\n",
      "Epoch 62/100\n",
      "4788/4788 [==============================] - 1s 244us/step - loss: 4.0638 - val_loss: 3.1119\n",
      "Epoch 63/100\n",
      "4788/4788 [==============================] - 2s 341us/step - loss: 4.0655 - val_loss: 3.1010ss: 4.085\n",
      "Epoch 64/100\n",
      "4788/4788 [==============================] - 2s 386us/step - loss: 4.0694 - val_loss: 3.1026\n",
      "Epoch 65/100\n",
      "4788/4788 [==============================] - 1s 283us/step - loss: 4.0679 - val_loss: 3.1056\n",
      "Epoch 66/100\n",
      "4788/4788 [==============================] - 1s 258us/step - loss: 4.0647 - val_loss: 3.1016\n",
      "Epoch 67/100\n",
      "4788/4788 [==============================] - 2s 350us/step - loss: 4.0660 - val_loss: 3.1103\n",
      "Epoch 68/100\n",
      "4788/4788 [==============================] - 2s 362us/step - loss: 4.0635 - val_loss: 3.1011\n",
      "Epoch 69/100\n",
      "4788/4788 [==============================] - 2s 317us/step - loss: 4.0647 - val_loss: 3.1125\n",
      "Epoch 70/100\n",
      "4788/4788 [==============================] - 1s 277us/step - loss: 4.0610 - val_loss: 3.1050\n",
      "Epoch 71/100\n",
      "4788/4788 [==============================] - 1s 309us/step - loss: 4.0633 - val_loss: 3.1022\n",
      "Epoch 72/100\n",
      "4788/4788 [==============================] - 1s 302us/step - loss: 4.0612 - val_loss: 3.1138\n",
      "Epoch 73/100\n",
      "4788/4788 [==============================] - 1s 286us/step - loss: 4.0613 - val_loss: 3.1044\n",
      "Epoch 74/100\n",
      "4788/4788 [==============================] - 2s 351us/step - loss: 4.0662 - val_loss: 3.1016\n",
      "Epoch 75/100\n",
      "4788/4788 [==============================] - 2s 313us/step - loss: 4.0637 - val_loss: 3.1024\n",
      "Epoch 76/100\n",
      "4788/4788 [==============================] - 2s 337us/step - loss: 4.0593 - val_loss: 3.1041\n",
      "Epoch 77/100\n"
     ]
    },
    {
     "name": "stdout",
     "output_type": "stream",
     "text": [
      "4788/4788 [==============================] - 1s 299us/step - loss: 4.0611 - val_loss: 3.1015\n",
      "Epoch 78/100\n",
      "4788/4788 [==============================] - 1s 258us/step - loss: 4.0549 - val_loss: 3.1074\n",
      "Epoch 79/100\n",
      "4788/4788 [==============================] - 1s 227us/step - loss: 4.0586 - val_loss: 3.1021\n",
      "Epoch 80/100\n",
      "4788/4788 [==============================] - 2s 334us/step - loss: 4.0577 - val_loss: 3.1046\n",
      "Epoch 81/100\n",
      "4788/4788 [==============================] - 2s 446us/step - loss: 4.0573 - val_loss: 3.1040\n",
      "Epoch 82/100\n",
      "4788/4788 [==============================] - 1s 243us/step - loss: 4.0585 - val_loss: 3.1025\n",
      "Epoch 83/100\n",
      "4788/4788 [==============================] - 1s 218us/step - loss: 4.0589 - val_loss: 3.1106\n",
      "Epoch 84/100\n",
      "4788/4788 [==============================] - 1s 206us/step - loss: 4.0592 - val_loss: 3.1086\n",
      "Epoch 85/100\n",
      "4788/4788 [==============================] - 1s 216us/step - loss: 4.0577 - val_loss: 3.1036\n",
      "Epoch 86/100\n",
      "4788/4788 [==============================] - 1s 187us/step - loss: 4.0582 - val_loss: 3.1029\n",
      "Epoch 87/100\n",
      "4788/4788 [==============================] - 1s 235us/step - loss: 4.0530 - val_loss: 3.1283\n",
      "Epoch 88/100\n",
      "4788/4788 [==============================] - 2s 408us/step - loss: 4.0583 - val_loss: 3.1028\n",
      "Epoch 89/100\n",
      "4788/4788 [==============================] - 1s 283us/step - loss: 4.0543 - val_loss: 3.1037\n",
      "Epoch 90/100\n",
      "4788/4788 [==============================] - 2s 387us/step - loss: 4.0575 - val_loss: 3.1099\n",
      "Epoch 91/100\n",
      "4788/4788 [==============================] - 1s 307us/step - loss: 4.0539 - val_loss: 3.1029\n",
      "Epoch 92/100\n",
      "4788/4788 [==============================] - 1s 221us/step - loss: 4.0537 - val_loss: 3.1040\n",
      "Epoch 93/100\n",
      "4788/4788 [==============================] - 1s 265us/step - loss: 4.0546 - val_loss: 3.1079\n",
      "Epoch 94/100\n",
      "4788/4788 [==============================] - 1s 231us/step - loss: 4.0542 - val_loss: 3.1032\n",
      "Epoch 95/100\n",
      "4788/4788 [==============================] - 1s 244us/step - loss: 4.0534 - val_loss: 3.1042\n",
      "Epoch 96/100\n",
      "4788/4788 [==============================] - 1s 253us/step - loss: 4.0530 - val_loss: 3.1078\n",
      "Epoch 97/100\n",
      "4788/4788 [==============================] - 1s 248us/step - loss: 4.0517 - val_loss: 3.1153\n",
      "Epoch 98/100\n",
      "4788/4788 [==============================] - 2s 390us/step - loss: 4.0526 - val_loss: 3.1036\n",
      "Epoch 99/100\n",
      "4788/4788 [==============================] - 1s 288us/step - loss: 4.0517 - val_loss: 3.1072\n",
      "Epoch 100/100\n",
      "4788/4788 [==============================] - 1s 236us/step - loss: 4.0546 - val_loss: 3.1104\n"
     ]
    },
    {
     "data": {
      "image/png": "[encoded data removed]",
      "text/plain": [
       "<Figure size 432x288 with 1 Axes>"
      ]
     },
     "metadata": {
      "needs_background": "light"
     },
     "output_type": "display_data"
    }
   ],
   "source": [
    "X_train, X_test, y_train, y_test = train_test_split(X, Y, test_size=0.2)\n",
    "model = baseline_model()\n",
    "history = model.fit(X_train, y_train, validation_data=(X_test, y_test), epochs=100)\n",
    "\n",
    "plot(history)"
   ]
  },
  {
   "cell_type": "code",
   "execution_count": 125,
   "metadata": {
    "collapsed": true
   },
   "outputs": [],
   "source": [
    "def adam_model():\n",
    "# create model\n",
    "    model = Sequential()\n",
    "    model.add(Dense(8, input_dim=2, kernel_initializer='normal', activation='relu'))\n",
    "    model.add(Dense(4, kernel_initializer='normal', activation='relu'))\n",
    "    model.add(Dense(1, activation='linear'))\n",
    "    # Compile model\n",
    "    opt = Adam(lr=1e-3, decay=1e-3 / 200)\n",
    "    model.compile(loss='mean_squared_logarithmic_error', optimizer=opt, metrics = [\"accuracy\"])\n",
    "    return model"
   ]
  },
  {
   "cell_type": "code",
   "execution_count": 126,
   "metadata": {},
   "outputs": [
    {
     "name": "stdout",
     "output_type": "stream",
     "text": [
      "Train on 4788 samples, validate on 1198 samples\n",
      "Epoch 1/100\n",
      "4788/4788 [==============================] - 7s 2ms/step - loss: 29.9287 - acc: 4.1771e-04 - val_loss: 23.1560 - val_acc: 0.0000e+00\n",
      "Epoch 2/100\n",
      "4788/4788 [==============================] - 1s 301us/step - loss: 17.9377 - acc: 0.0010 - val_loss: 16.2681 - val_acc: 0.0000e+00\n",
      "Epoch 3/100\n",
      "4788/4788 [==============================] - 2s 355us/step - loss: 12.9920 - acc: 0.0054 - val_loss: 12.5715 - val_acc: 0.0017\n",
      "Epoch 4/100\n",
      "4788/4788 [==============================] - 2s 320us/step - loss: 10.1885 - acc: 0.0048 - val_loss: 10.3053 - val_acc: 0.0017\n",
      "Epoch 5/100\n",
      "4788/4788 [==============================] - 2s 321us/step - loss: 8.4151 - acc: 0.0048 - val_loss: 8.7917 - val_acc: 8.3472e-04\n",
      "Epoch 6/100\n",
      "4788/4788 [==============================] - 2s 324us/step - loss: 7.2090 - acc: 0.0017 - val_loss: 7.7307 - val_acc: 0.0017\n",
      "Epoch 7/100\n",
      "4788/4788 [==============================] - 2s 330us/step - loss: 6.3530 - acc: 0.0013 - val_loss: 6.9531 - val_acc: 8.3472e-04\n",
      "Epoch 8/100\n",
      "4788/4788 [==============================] - 2s 349us/step - loss: 5.7250 - acc: 8.3542e-04 - val_loss: 6.3713 - val_acc: 0.0017\n",
      "Epoch 9/100\n",
      "4788/4788 [==============================] - 2s 313us/step - loss: 5.2553 - acc: 6.2657e-04 - val_loss: 5.9242 - val_acc: 0.0025\n",
      "Epoch 10/100\n",
      "4788/4788 [==============================] - 2s 324us/step - loss: 4.8992 - acc: 6.2657e-04 - val_loss: 5.5807 - val_acc: 0.0000e+00\n",
      "Epoch 11/100\n",
      "4788/4788 [==============================] - 2s 320us/step - loss: 4.6269 - acc: 8.3542e-04 - val_loss: 5.3130 - val_acc: 0.0033\n",
      "Epoch 12/100\n",
      "4788/4788 [==============================] - 2s 338us/step - loss: 4.4165 - acc: 0.0015 - val_loss: 5.1037 - val_acc: 0.0017ETA: 1s - loss:\n",
      "Epoch 13/100\n",
      "4788/4788 [==============================] - 2s 402us/step - loss: 4.2535 - acc: 4.1771e-04 - val_loss: 4.9370 - val_acc: 8.3472e-04\n",
      "Epoch 14/100\n",
      "4788/4788 [==============================] - 2s 320us/step - loss: 4.1268 - acc: 4.1771e-04 - val_loss: 4.8043 - val_acc: 8.3472e-04\n",
      "Epoch 15/100\n",
      "4788/4788 [==============================] - 2s 328us/step - loss: 4.0289 - acc: 0.0000e+00 - val_loss: 4.7002 - val_acc: 0.0000e+00\n",
      "Epoch 16/100\n",
      "4788/4788 [==============================] - 1s 304us/step - loss: 3.9533 - acc: 0.0015 - val_loss: 4.6180 - val_acc: 0.0017\n",
      "Epoch 17/100\n",
      "4788/4788 [==============================] - 2s 374us/step - loss: 3.8951 - acc: 8.3542e-04 - val_loss: 4.5525 - val_acc: 0.0000e+00\n",
      "Epoch 18/100\n",
      "4788/4788 [==============================] - 2s 419us/step - loss: 3.8511 - acc: 0.0000e+00 - val_loss: 4.5004 - val_acc: 8.3472e-04\n",
      "Epoch 19/100\n",
      "4788/4788 [==============================] - 2s 428us/step - loss: 3.8178 - acc: 0.0000e+00 - val_loss: 4.4604 - val_acc: 8.3472e-04\n",
      "Epoch 20/100\n",
      "4788/4788 [==============================] - 2s 400us/step - loss: 3.7931 - acc: 2.0886e-04 - val_loss: 4.4286 - val_acc: 8.3472e-04\n",
      "Epoch 21/100\n",
      "4788/4788 [==============================] - 1s 299us/step - loss: 3.7749 - acc: 4.1771e-04 - val_loss: 4.4053 - val_acc: 8.3472e-04\n",
      "Epoch 22/100\n",
      "4788/4788 [==============================] - 2s 486us/step - loss: 3.7618 - acc: 4.1771e-04 - val_loss: 4.3849 - val_acc: 0.0000e+00\n",
      "Epoch 23/100\n",
      "4788/4788 [==============================] - 2s 422us/step - loss: 3.7523 - acc: 8.3542e-04 - val_loss: 4.3712 - val_acc: 0.0000e+00\n",
      "Epoch 24/100\n",
      "4788/4788 [==============================] - 2s 398us/step - loss: 3.7457 - acc: 6.2657e-04 - val_loss: 4.3599 - val_acc: 0.0000e+00\n",
      "Epoch 25/100\n",
      "4788/4788 [==============================] - 1s 310us/step - loss: 3.7412 - acc: 2.0886e-04 - val_loss: 4.3509 - val_acc: 0.0000e+00\n",
      "Epoch 26/100\n",
      "4788/4788 [==============================] - 2s 332us/step - loss: 3.7383 - acc: 0.0000e+00 - val_loss: 4.3441 - val_acc: 0.0000e+00\n",
      "Epoch 27/100\n",
      "4788/4788 [==============================] - 2s 342us/step - loss: 3.7365 - acc: 0.0000e+00 - val_loss: 4.3398 - val_acc: 8.3472e-04\n",
      "Epoch 28/100\n",
      "4788/4788 [==============================] - 1s 306us/step - loss: 3.7351 - acc: 0.0000e+00 - val_loss: 4.3354 - val_acc: 8.3472e-04\n",
      "Epoch 29/100\n",
      "4788/4788 [==============================] - 2s 346us/step - loss: 3.7344 - acc: 0.0000e+00 - val_loss: 4.3331 - val_acc: 0.0000e+00\n",
      "Epoch 30/100\n",
      "4788/4788 [==============================] - 2s 314us/step - loss: 3.7339 - acc: 0.0000e+00 - val_loss: 4.3304 - val_acc: 0.0000e+00\n",
      "Epoch 31/100\n",
      "4788/4788 [==============================] - 2s 349us/step - loss: 3.7337 - acc: 0.0000e+00 - val_loss: 4.3284 - val_acc: 0.0000e+00\n",
      "Epoch 32/100\n",
      "4788/4788 [==============================] - 2s 410us/step - loss: 3.7335 - acc: 0.0000e+00 - val_loss: 4.3278 - val_acc: 0.0000e+00\n",
      "Epoch 33/100\n",
      "4788/4788 [==============================] - 1s 254us/step - loss: 3.7333 - acc: 0.0000e+00 - val_loss: 4.3269 - val_acc: 0.0000e+00\n",
      "Epoch 34/100\n",
      "4788/4788 [==============================] - 1s 244us/step - loss: 3.7332 - acc: 0.0000e+00 - val_loss: 4.3259 - val_acc: 0.0000e+00\n",
      "Epoch 35/100\n",
      "4788/4788 [==============================] - 1s 255us/step - loss: 3.7332 - acc: 0.0000e+00 - val_loss: 4.3262 - val_acc: 0.0000e+00\n",
      "Epoch 36/100\n",
      "4788/4788 [==============================] - 1s 257us/step - loss: 3.7331 - acc: 0.0000e+00 - val_loss: 4.3252 - val_acc: 0.0000e+00\n",
      "Epoch 37/100\n",
      "4788/4788 [==============================] - ETA: 0s - loss: 3.7258 - acc: 0.0000e+0 - 1s 242us/step - loss: 3.7330 - acc: 0.0000e+00 - val_loss: 4.3243 - val_acc: 0.0000e+00\n",
      "Epoch 38/100\n",
      "4788/4788 [==============================] - 1s 249us/step - loss: 3.7330 - acc: 0.0000e+00 - val_loss: 4.3236 - val_acc: 0.0000e+00\n",
      "Epoch 39/100\n",
      "4788/4788 [==============================] - 1s 245us/step - loss: 3.7328 - acc: 0.0000e+00 - val_loss: 4.3236 - val_acc: 0.0000e+00\n",
      "Epoch 40/100\n",
      "4788/4788 [==============================] - 1s 260us/step - loss: 3.7328 - acc: 0.0000e+00 - val_loss: 4.3233 - val_acc: 0.0000e+00\n",
      "Epoch 41/100\n",
      "4788/4788 [==============================] - ETA: 0s - loss: 3.6938 - acc: 0.0000e+00- ETA: 0s - loss: 3.6484 - acc: 0. - 1s 238us/step - loss: 3.7327 - acc: 0.0000e+00 - val_loss: 4.3226 - val_acc: 0.0000e+00\n",
      "Epoch 42/100\n",
      "4788/4788 [==============================] - 1s 249us/step - loss: 3.7328 - acc: 0.0000e+00 - val_loss: 4.3223 - val_acc: 0.0000e+00\n",
      "Epoch 43/100\n",
      "4788/4788 [==============================] - 1s 251us/step - loss: 3.7325 - acc: 0.0000e+00 - val_loss: 4.3226 - val_acc: 0.0000e+00\n",
      "Epoch 44/100\n",
      "4788/4788 [==============================] - 1s 245us/step - loss: 3.7327 - acc: 0.0000e+00 - val_loss: 4.3223 - val_acc: 0.0000e+00\n",
      "Epoch 45/100\n",
      "4788/4788 [==============================] - 1s 261us/step - loss: 3.7325 - acc: 0.0000e+00 - val_loss: 4.3230 - val_acc: 0.0000e+00\n",
      "Epoch 46/100\n",
      "4788/4788 [==============================] - 1s 251us/step - loss: 3.7323 - acc: 0.0000e+00 - val_loss: 4.3217 - val_acc: 0.0000e+00\n",
      "Epoch 47/100\n",
      "4788/4788 [==============================] - 1s 240us/step - loss: 3.7323 - acc: 2.0886e-04 - val_loss: 4.3213 - val_acc: 0.0000e+00\n",
      "Epoch 48/100\n",
      "4788/4788 [==============================] - 1s 225us/step - loss: 3.7324 - acc: 0.0000e+00 - val_loss: 4.3226 - val_acc: 0.0000e+00\n",
      "Epoch 49/100\n",
      "4788/4788 [==============================] - 1s 226us/step - loss: 3.7325 - acc: 0.0000e+00 - val_loss: 4.3208 - val_acc: 0.0000e+00\n",
      "Epoch 50/100\n",
      "4788/4788 [==============================] - 1s 257us/step - loss: 3.7322 - acc: 0.0000e+00 - val_loss: 4.3225 - val_acc: 0.0000e+00\n",
      "Epoch 51/100\n",
      "4788/4788 [==============================] - 1s 225us/step - loss: 3.7323 - acc: 2.0886e-04 - val_loss: 4.3201 - val_acc: 0.0000e+00\n",
      "Epoch 52/100\n",
      "4788/4788 [==============================] - 1s 228us/step - loss: 3.7321 - acc: 0.0000e+00 - val_loss: 4.3223 - val_acc: 0.0000e+00\n",
      "Epoch 53/100\n",
      "4788/4788 [==============================] - 1s 232us/step - loss: 3.7322 - acc: 4.1771e-04 - val_loss: 4.3208 - val_acc: 0.0000e+00\n",
      "Epoch 54/100\n",
      "4788/4788 [==============================] - 1s 251us/step - loss: 3.7319 - acc: 2.0886e-04 - val_loss: 4.3178 - val_acc: 0.0000e+00\n",
      "Epoch 55/100\n",
      "4788/4788 [==============================] - 1s 313us/step - loss: 3.7322 - acc: 2.0886e-04 - val_loss: 4.3210 - val_acc: 0.0000e+00\n",
      "Epoch 56/100\n"
     ]
    },
    {
     "name": "stdout",
     "output_type": "stream",
     "text": [
      "4788/4788 [==============================] - 1s 283us/step - loss: 3.7326 - acc: 2.0886e-04 - val_loss: 4.3190 - val_acc: 0.0000e+00\n",
      "Epoch 57/100\n",
      "4788/4788 [==============================] - 1s 267us/step - loss: 3.7322 - acc: 2.0886e-04 - val_loss: 4.3208 - val_acc: 0.0000e+00\n",
      "Epoch 58/100\n",
      "4788/4788 [==============================] - 1s 263us/step - loss: 3.7318 - acc: 2.0886e-04 - val_loss: 4.3229 - val_acc: 0.0000e+00\n",
      "Epoch 59/100\n",
      "4788/4788 [==============================] - 1s 240us/step - loss: 3.7317 - acc: 2.0886e-04 - val_loss: 4.3204 - val_acc: 0.0000e+00\n",
      "Epoch 60/100\n",
      "4788/4788 [==============================] - 1s 237us/step - loss: 3.7318 - acc: 2.0886e-04 - val_loss: 4.3200 - val_acc: 0.0000e+00\n",
      "Epoch 61/100\n",
      "4788/4788 [==============================] - 1s 243us/step - loss: 3.7316 - acc: 2.0886e-04 - val_loss: 4.3181 - val_acc: 0.0000e+00\n",
      "Epoch 62/100\n",
      "4788/4788 [==============================] - 1s 226us/step - loss: 3.7315 - acc: 2.0886e-04 - val_loss: 4.3210 - val_acc: 0.0000e+00\n",
      "Epoch 63/100\n",
      "4788/4788 [==============================] - 1s 254us/step - loss: 3.7320 - acc: 2.0886e-04 - val_loss: 4.3208 - val_acc: 0.0000e+00\n",
      "Epoch 64/100\n",
      "4788/4788 [==============================] - 1s 232us/step - loss: 3.7321 - acc: 2.0886e-04 - val_loss: 4.3224 - val_acc: 8.3472e-04\n",
      "Epoch 65/100\n",
      "4788/4788 [==============================] - 1s 256us/step - loss: 3.7315 - acc: 4.1771e-04 - val_loss: 4.3201 - val_acc: 0.0000e+00\n",
      "Epoch 66/100\n",
      "4788/4788 [==============================] - 1s 255us/step - loss: 3.7319 - acc: 4.1771e-04 - val_loss: 4.3194 - val_acc: 0.0000e+00\n",
      "Epoch 67/100\n",
      "4788/4788 [==============================] - 1s 233us/step - loss: 3.7322 - acc: 2.0886e-04 - val_loss: 4.3200 - val_acc: 0.0000e+00\n",
      "Epoch 68/100\n",
      "4788/4788 [==============================] - 1s 244us/step - loss: 3.7311 - acc: 2.0886e-04 - val_loss: 4.3227 - val_acc: 8.3472e-04\n",
      "Epoch 69/100\n",
      "4788/4788 [==============================] - 1s 251us/step - loss: 3.7315 - acc: 2.0886e-04 - val_loss: 4.3183 - val_acc: 0.0000e+00\n",
      "Epoch 70/100\n",
      "4788/4788 [==============================] - 1s 242us/step - loss: 3.7312 - acc: 2.0886e-04 - val_loss: 4.3168 - val_acc: 0.0000e+00\n",
      "Epoch 71/100\n",
      "4788/4788 [==============================] - 1s 278us/step - loss: 3.7311 - acc: 4.1771e-04 - val_loss: 4.3174 - val_acc: 0.0000e+00\n",
      "Epoch 72/100\n",
      "4788/4788 [==============================] - 1s 234us/step - loss: 3.7305 - acc: 2.0886e-04 - val_loss: 4.3163 - val_acc: 0.0000e+00\n",
      "Epoch 73/100\n",
      "4788/4788 [==============================] - 2s 363us/step - loss: 3.7320 - acc: 2.0886e-04 - val_loss: 4.3149 - val_acc: 0.0000e+00\n",
      "Epoch 74/100\n",
      "4788/4788 [==============================] - 2s 379us/step - loss: 3.7316 - acc: 2.0886e-04 - val_loss: 4.3131 - val_acc: 0.0000e+00\n",
      "Epoch 75/100\n",
      "4788/4788 [==============================] - 1s 264us/step - loss: 3.7311 - acc: 2.0886e-04 - val_loss: 4.3210 - val_acc: 0.0017\n",
      "Epoch 76/100\n",
      "4788/4788 [==============================] - 1s 241us/step - loss: 3.7309 - acc: 2.0886e-04 - val_loss: 4.3184 - val_acc: 8.3472e-04\n",
      "Epoch 77/100\n",
      "4788/4788 [==============================] - 1s 219us/step - loss: 3.7304 - acc: 2.0886e-04 - val_loss: 4.3240 - val_acc: 8.3472e-04\n",
      "Epoch 78/100\n",
      "4788/4788 [==============================] - 1s 251us/step - loss: 3.7307 - acc: 2.0886e-04 - val_loss: 4.3111 - val_acc: 0.0000e+00\n",
      "Epoch 79/100\n",
      "4788/4788 [==============================] - 1s 226us/step - loss: 3.7309 - acc: 2.0886e-04 - val_loss: 4.3143 - val_acc: 8.3472e-04\n",
      "Epoch 80/100\n",
      "4788/4788 [==============================] - 1s 228us/step - loss: 3.7314 - acc: 2.0886e-04 - val_loss: 4.3173 - val_acc: 0.0017\n",
      "Epoch 81/100\n",
      "4788/4788 [==============================] - 1s 221us/step - loss: 3.7300 - acc: 2.0886e-04 - val_loss: 4.3224 - val_acc: 8.3472e-04\n",
      "Epoch 82/100\n",
      "4788/4788 [==============================] - 1s 224us/step - loss: 3.7302 - acc: 2.0886e-04 - val_loss: 4.3227 - val_acc: 8.3472e-04\n",
      "Epoch 83/100\n",
      "4788/4788 [==============================] - 1s 243us/step - loss: 3.7301 - acc: 0.0000e+00 - val_loss: 4.3097 - val_acc: 0.0000e+00\n",
      "Epoch 84/100\n",
      "4788/4788 [==============================] - 1s 250us/step - loss: 3.7313 - acc: 2.0886e-04 - val_loss: 4.3153 - val_acc: 8.3472e-04\n",
      "Epoch 85/100\n",
      "4788/4788 [==============================] - 1s 244us/step - loss: 3.7303 - acc: 2.0886e-04 - val_loss: 4.3168 - val_acc: 0.0017\n",
      "Epoch 86/100\n",
      "4788/4788 [==============================] - 1s 233us/step - loss: 3.7297 - acc: 6.2657e-04 - val_loss: 4.3154 - val_acc: 8.3472e-04\n",
      "Epoch 87/100\n",
      "4788/4788 [==============================] - 1s 265us/step - loss: 3.7295 - acc: 2.0886e-04 - val_loss: 4.3106 - val_acc: 8.3472e-04\n",
      "Epoch 88/100\n",
      "4788/4788 [==============================] - 1s 258us/step - loss: 3.7302 - acc: 2.0886e-04 - val_loss: 4.3122 - val_acc: 8.3472e-04\n",
      "Epoch 89/100\n",
      "4788/4788 [==============================] - 1s 264us/step - loss: 3.7296 - acc: 4.1771e-04 - val_loss: 4.3103 - val_acc: 8.3472e-04\n",
      "Epoch 90/100\n",
      "4788/4788 [==============================] - 1s 279us/step - loss: 3.7294 - acc: 2.0886e-04 - val_loss: 4.3174 - val_acc: 0.0017\n",
      "Epoch 91/100\n",
      "4788/4788 [==============================] - ETA: 0s - loss: 3.7574 - acc: 2.1259e-0 - 1s 267us/step - loss: 3.7290 - acc: 2.0886e-04 - val_loss: 4.3088 - val_acc: 8.3472e-04\n",
      "Epoch 92/100\n",
      "4788/4788 [==============================] - 1s 257us/step - loss: 3.7303 - acc: 2.0886e-04 - val_loss: 4.3104 - val_acc: 8.3472e-04\n",
      "Epoch 93/100\n",
      "4788/4788 [==============================] - 2s 334us/step - loss: 3.7304 - acc: 2.0886e-04 - val_loss: 4.3137 - val_acc: 8.3472e-04\n",
      "Epoch 94/100\n",
      "4788/4788 [==============================] - 1s 265us/step - loss: 3.7292 - acc: 2.0886e-04 - val_loss: 4.3150 - val_acc: 0.0017\n",
      "Epoch 95/100\n",
      "4788/4788 [==============================] - 1s 249us/step - loss: 3.7299 - acc: 2.0886e-04 - val_loss: 4.3162 - val_acc: 0.0017\n",
      "Epoch 96/100\n",
      "4788/4788 [==============================] - 1s 250us/step - loss: 3.7299 - acc: 2.0886e-04 - val_loss: 4.3162 - val_acc: 0.0017\n",
      "Epoch 97/100\n",
      "4788/4788 [==============================] - 1s 248us/step - loss: 3.7295 - acc: 4.1771e-04 - val_loss: 4.3195 - val_acc: 8.3472e-04\n",
      "Epoch 98/100\n",
      "4788/4788 [==============================] - 1s 253us/step - loss: 3.7307 - acc: 2.0886e-04 - val_loss: 4.3110 - val_acc: 8.3472e-04\n",
      "Epoch 99/100\n",
      "4788/4788 [==============================] - 1s 283us/step - loss: 3.7302 - acc: 4.1771e-04 - val_loss: 4.3139 - val_acc: 0.0017\n",
      "Epoch 100/100\n",
      "4788/4788 [==============================] - 1s 245us/step - loss: 3.7299 - acc: 2.0886e-04 - val_loss: 4.3091 - val_acc: 8.3472e-04\n"
     ]
    },
    {
     "data": {
      "image/png": "[encoded data removed]",
      "text/plain": [
       "<Figure size 432x288 with 1 Axes>"
      ]
     },
     "metadata": {
      "needs_background": "light"
     },
     "output_type": "display_data"
    }
   ],
   "source": [
    "X_train, X_test, y_train, y_test = train_test_split(X, Y, test_size=0.2)\n",
    "model = adam_model()\n",
    "history = model.fit(X_train, y_train, validation_data=(X_test, y_test), epochs=100)\n",
    "plot(history)"
   ]
  },
  {
   "cell_type": "markdown",
   "metadata": {},
   "source": [
    "** 10-fold Cross-Validation **"
   ]
  },
  {
   "cell_type": "code",
   "execution_count": 118,
   "metadata": {},
   "outputs": [
    {
     "name": "stderr",
     "output_type": "stream",
     "text": [
      "[Parallel(n_jobs=1)]: Using backend SequentialBackend with 1 concurrent workers.\n"
     ]
    },
    {
     "name": "stdout",
     "output_type": "stream",
     "text": [
      "[CV]  ................................................................\n",
      "[CV] ...................... , score=-324.66510259408585, total= 1.3min\n",
      "[CV]  ................................................................\n"
     ]
    },
    {
     "name": "stderr",
     "output_type": "stream",
     "text": [
      "[Parallel(n_jobs=1)]: Done   1 out of   1 | elapsed:  1.3min remaining:    0.0s\n"
     ]
    },
    {
     "name": "stdout",
     "output_type": "stream",
     "text": [
      "[CV] ...................... , score=-308.01108700046956, total= 1.6min\n",
      "[CV]  ................................................................\n"
     ]
    },
    {
     "name": "stderr",
     "output_type": "stream",
     "text": [
      "[Parallel(n_jobs=1)]: Done   2 out of   2 | elapsed:  2.9min remaining:    0.0s\n"
     ]
    },
    {
     "name": "stdout",
     "output_type": "stream",
     "text": [
      "[CV] ....................... , score=-2.470271030133077, total= 1.4min\n",
      "[CV]  ................................................................\n",
      "[CV] ...................... , score=-296.28213679292963, total= 1.4min\n",
      "[CV]  ................................................................\n",
      "[CV] ....................... , score=-265.9296838317769, total= 1.4min\n",
      "[CV]  ................................................................\n",
      "[CV] ....................... , score=-4.132873106082413, total= 1.2min\n",
      "[CV]  ................................................................\n",
      "[CV] ....................... , score=-244.5500994015697, total= 1.3min\n",
      "[CV]  ................................................................\n",
      "[CV] ....................... , score=-4.927334952912601, total= 1.3min\n",
      "[CV]  ................................................................\n",
      "[CV] ....................... , score=-4.720715924648935, total= 1.4min\n",
      "[CV]  ................................................................\n",
      "[CV] ....................... , score=-4.654058054538076, total= 1.4min\n",
      "Results: Mean: -146.03 \n",
      " MSE: (143.32)\n"
     ]
    },
    {
     "name": "stderr",
     "output_type": "stream",
     "text": [
      "[Parallel(n_jobs=1)]: Done  10 out of  10 | elapsed: 13.8min finished\n"
     ]
    }
   ],
   "source": [
    "seed = 7\n",
    "np.random.seed(seed)\n",
    "# evaluate model with standardized dataset\n",
    "estimator = KerasRegressor(build_fn=baseline_model, epochs=100, batch_size=32, verbose=0)\n",
    "\n",
    "kfold = KFold(n_splits=10, random_state=seed)\n",
    "results = cross_val_score(estimator, X, Y, cv=kfold, verbose=3)\n",
    "print(\"Results: Mean: %.2f \\n MSE: (%.2f)\" % (results.mean(), results.std()))"
   ]
  },
  {
   "cell_type": "code",
   "execution_count": 120,
   "metadata": {},
   "outputs": [
    {
     "name": "stderr",
     "output_type": "stream",
     "text": [
      "[Parallel(n_jobs=1)]: Using backend SequentialBackend with 1 concurrent workers.\n"
     ]
    },
    {
     "name": "stdout",
     "output_type": "stream",
     "text": [
      "[CV]  ................................................................\n",
      "[CV] ...................... , score=-3.2657070942036497, total= 1.4min\n",
      "[CV]  ................................................................\n"
     ]
    },
    {
     "name": "stderr",
     "output_type": "stream",
     "text": [
      "[Parallel(n_jobs=1)]: Done   1 out of   1 | elapsed:  1.4min remaining:    0.0s\n"
     ]
    },
    {
     "name": "stdout",
     "output_type": "stream",
     "text": [
      "[CV] ...................... , score=-2.8504705693765553, total= 1.8min\n",
      "[CV]  ................................................................\n"
     ]
    },
    {
     "name": "stderr",
     "output_type": "stream",
     "text": [
      "[Parallel(n_jobs=1)]: Done   2 out of   2 | elapsed:  3.2min remaining:    0.0s\n"
     ]
    },
    {
     "name": "stdout",
     "output_type": "stream",
     "text": [
      "[CV] ...................... , score=-2.4385987406780005, total= 1.6min\n",
      "[CV]  ................................................................\n",
      "[CV] ...................... , score=-296.28213679292963, total= 1.6min\n",
      "[CV]  ................................................................\n",
      "[CV] ....................... , score=-4.622125271166705, total= 1.6min\n",
      "[CV]  ................................................................\n",
      "[CV] ....................... , score=-4.121874450244171, total= 1.6min\n",
      "[CV]  ................................................................\n",
      "[CV] ....................... , score=-5.249568546097414, total= 1.6min\n",
      "[CV]  ................................................................\n",
      "[CV] ....................... , score=-4.863695238744933, total= 2.0min\n",
      "[CV]  ................................................................\n",
      "[CV] ....................... , score=-4.761846803103801, total= 1.9min\n",
      "[CV]  ................................................................\n",
      "[CV] ....................... , score=-4.660782313267124, total= 1.7min\n",
      "Results: Mean: -33.31 \n",
      " MSE: (87.66)\n"
     ]
    },
    {
     "name": "stderr",
     "output_type": "stream",
     "text": [
      "[Parallel(n_jobs=1)]: Done  10 out of  10 | elapsed: 16.7min finished\n"
     ]
    }
   ],
   "source": [
    "estimator = KerasRegressor(build_fn=adam_model, epochs=100, batch_size=32, verbose=0)\n",
    "kfold = KFold(n_splits=10, random_state=seed)\n",
    "results = cross_val_score(estimator, X, Y, cv=kfold, verbose=3)\n",
    "print(\"Results: Mean: %.2f \\n MSE: (%.2f)\" % (results.mean(), results.std()))"
   ]
  },
  {
   "cell_type": "code",
   "execution_count": 121,
   "metadata": {
    "collapsed": true
   },
   "outputs": [],
   "source": [
    "def abs_model():\n",
    "# create model\n",
    "    model = Sequential()\n",
    "    model.add(Dense(8, input_dim=2, kernel_initializer='normal', activation='relu'))\n",
    "    model.add(Dense(4, kernel_initializer='normal', activation='relu'))\n",
    "    model.add(Dense(1, activation='linear'))\n",
    "    # Compile model\n",
    "    opt = Adam(lr=1e-3, decay=1e-3 / 200)\n",
    "    model.compile(loss='mean_absolute_error', optimizer=opt)\n",
    "    return model"
   ]
  },
  {
   "cell_type": "code",
   "execution_count": 122,
   "metadata": {},
   "outputs": [
    {
     "name": "stderr",
     "output_type": "stream",
     "text": [
      "[Parallel(n_jobs=1)]: Using backend SequentialBackend with 1 concurrent workers.\n"
     ]
    },
    {
     "name": "stdout",
     "output_type": "stream",
     "text": [
      "[CV]  ................................................................\n",
      "[CV] ...................... , score=-110249039.53255425, total= 1.6min\n",
      "[CV]  ................................................................\n"
     ]
    },
    {
     "name": "stderr",
     "output_type": "stream",
     "text": [
      "[Parallel(n_jobs=1)]: Done   1 out of   1 | elapsed:  1.6min remaining:    0.0s\n"
     ]
    },
    {
     "name": "stdout",
     "output_type": "stream",
     "text": [
      "[CV] ....................... , score=-57872505.86310518, total= 1.7min\n",
      "[CV]  ................................................................\n"
     ]
    },
    {
     "name": "stderr",
     "output_type": "stream",
     "text": [
      "[Parallel(n_jobs=1)]: Done   2 out of   2 | elapsed:  3.3min remaining:    0.0s\n"
     ]
    },
    {
     "name": "stdout",
     "output_type": "stream",
     "text": [
      "[CV] ....................... , score=-91790715.00500834, total= 1.9min\n",
      "[CV]  ................................................................\n",
      "[CV] ...................... , score=-44561404.500834726, total= 1.8min\n",
      "[CV]  ................................................................\n",
      "[CV] ....................... , score=-38003319.19866444, total= 1.8min\n",
      "[CV]  ................................................................\n",
      "[CV] ...................... , score=-31767592.808013357, total= 1.8min\n",
      "[CV]  ................................................................\n",
      "[CV] ....................... , score=-38012490.68896321, total= 1.8min\n",
      "[CV]  ................................................................\n"
     ]
    },
    {
     "ename": "KeyboardInterrupt",
     "evalue": "",
     "output_type": "error",
     "traceback": [
      "\u001b[1;31m---------------------------------------------------------------------------\u001b[0m",
      "\u001b[1;31mKeyboardInterrupt\u001b[0m                         Traceback (most recent call last)",
      "\u001b[1;32m<ipython-input-122-b1fe052ba8d7>\u001b[0m in \u001b[0;36m<module>\u001b[1;34m\u001b[0m\n\u001b[0;32m      1\u001b[0m \u001b[0mestimator\u001b[0m \u001b[1;33m=\u001b[0m \u001b[0mKerasRegressor\u001b[0m\u001b[1;33m(\u001b[0m\u001b[0mbuild_fn\u001b[0m\u001b[1;33m=\u001b[0m\u001b[0mabs_model\u001b[0m\u001b[1;33m,\u001b[0m \u001b[0mepochs\u001b[0m\u001b[1;33m=\u001b[0m\u001b[1;36m100\u001b[0m\u001b[1;33m,\u001b[0m \u001b[0mbatch_size\u001b[0m\u001b[1;33m=\u001b[0m\u001b[1;36m32\u001b[0m\u001b[1;33m,\u001b[0m \u001b[0mverbose\u001b[0m\u001b[1;33m=\u001b[0m\u001b[1;36m0\u001b[0m\u001b[1;33m)\u001b[0m\u001b[1;33m\u001b[0m\u001b[0m\n\u001b[0;32m      2\u001b[0m \u001b[0mkfold\u001b[0m \u001b[1;33m=\u001b[0m \u001b[0mKFold\u001b[0m\u001b[1;33m(\u001b[0m\u001b[0mn_splits\u001b[0m\u001b[1;33m=\u001b[0m\u001b[1;36m10\u001b[0m\u001b[1;33m,\u001b[0m \u001b[0mrandom_state\u001b[0m\u001b[1;33m=\u001b[0m\u001b[0mseed\u001b[0m\u001b[1;33m)\u001b[0m\u001b[1;33m\u001b[0m\u001b[0m\n\u001b[1;32m----> 3\u001b[1;33m \u001b[0mresults\u001b[0m \u001b[1;33m=\u001b[0m \u001b[0mcross_val_score\u001b[0m\u001b[1;33m(\u001b[0m\u001b[0mestimator\u001b[0m\u001b[1;33m,\u001b[0m \u001b[0mX\u001b[0m\u001b[1;33m,\u001b[0m \u001b[0mY\u001b[0m\u001b[1;33m,\u001b[0m \u001b[0mcv\u001b[0m\u001b[1;33m=\u001b[0m\u001b[0mkfold\u001b[0m\u001b[1;33m,\u001b[0m \u001b[0mverbose\u001b[0m\u001b[1;33m=\u001b[0m\u001b[1;36m3\u001b[0m\u001b[1;33m)\u001b[0m\u001b[1;33m\u001b[0m\u001b[0m\n\u001b[0m\u001b[0;32m      4\u001b[0m \u001b[0mprint\u001b[0m\u001b[1;33m(\u001b[0m\u001b[1;34m\"Results: Mean: %.2f \\n MSE: (%.2f)\"\u001b[0m \u001b[1;33m%\u001b[0m \u001b[1;33m(\u001b[0m\u001b[0mresults\u001b[0m\u001b[1;33m.\u001b[0m\u001b[0mmean\u001b[0m\u001b[1;33m(\u001b[0m\u001b[1;33m)\u001b[0m\u001b[1;33m,\u001b[0m \u001b[0mresults\u001b[0m\u001b[1;33m.\u001b[0m\u001b[0mstd\u001b[0m\u001b[1;33m(\u001b[0m\u001b[1;33m)\u001b[0m\u001b[1;33m)\u001b[0m\u001b[1;33m)\u001b[0m\u001b[1;33m\u001b[0m\u001b[0m\n",
      "\u001b[1;32m~\\Anaconda2\\envs\\python3\\lib\\site-packages\\sklearn\\model_selection\\_validation.py\u001b[0m in \u001b[0;36mcross_val_score\u001b[1;34m(estimator, X, y, groups, scoring, cv, n_jobs, verbose, fit_params, pre_dispatch, error_score)\u001b[0m\n\u001b[0;32m    400\u001b[0m                                 \u001b[0mfit_params\u001b[0m\u001b[1;33m=\u001b[0m\u001b[0mfit_params\u001b[0m\u001b[1;33m,\u001b[0m\u001b[1;33m\u001b[0m\u001b[0m\n\u001b[0;32m    401\u001b[0m                                 \u001b[0mpre_dispatch\u001b[0m\u001b[1;33m=\u001b[0m\u001b[0mpre_dispatch\u001b[0m\u001b[1;33m,\u001b[0m\u001b[1;33m\u001b[0m\u001b[0m\n\u001b[1;32m--> 402\u001b[1;33m                                 error_score=error_score)\n\u001b[0m\u001b[0;32m    403\u001b[0m     \u001b[1;32mreturn\u001b[0m \u001b[0mcv_results\u001b[0m\u001b[1;33m[\u001b[0m\u001b[1;34m'test_score'\u001b[0m\u001b[1;33m]\u001b[0m\u001b[1;33m\u001b[0m\u001b[0m\n\u001b[0;32m    404\u001b[0m \u001b[1;33m\u001b[0m\u001b[0m\n",
      "\u001b[1;32m~\\Anaconda2\\envs\\python3\\lib\\site-packages\\sklearn\\model_selection\\_validation.py\u001b[0m in \u001b[0;36mcross_validate\u001b[1;34m(estimator, X, y, groups, scoring, cv, n_jobs, verbose, fit_params, pre_dispatch, return_train_score, return_estimator, error_score)\u001b[0m\n\u001b[0;32m    238\u001b[0m             \u001b[0mreturn_times\u001b[0m\u001b[1;33m=\u001b[0m\u001b[1;32mTrue\u001b[0m\u001b[1;33m,\u001b[0m \u001b[0mreturn_estimator\u001b[0m\u001b[1;33m=\u001b[0m\u001b[0mreturn_estimator\u001b[0m\u001b[1;33m,\u001b[0m\u001b[1;33m\u001b[0m\u001b[0m\n\u001b[0;32m    239\u001b[0m             error_score=error_score)\n\u001b[1;32m--> 240\u001b[1;33m         for train, test in cv.split(X, y, groups))\n\u001b[0m\u001b[0;32m    241\u001b[0m \u001b[1;33m\u001b[0m\u001b[0m\n\u001b[0;32m    242\u001b[0m     \u001b[0mzipped_scores\u001b[0m \u001b[1;33m=\u001b[0m \u001b[0mlist\u001b[0m\u001b[1;33m(\u001b[0m\u001b[0mzip\u001b[0m\u001b[1;33m(\u001b[0m\u001b[1;33m*\u001b[0m\u001b[0mscores\u001b[0m\u001b[1;33m)\u001b[0m\u001b[1;33m)\u001b[0m\u001b[1;33m\u001b[0m\u001b[0m\n",
      "\u001b[1;32m~\\Anaconda2\\envs\\python3\\lib\\site-packages\\sklearn\\externals\\joblib\\parallel.py\u001b[0m in \u001b[0;36m__call__\u001b[1;34m(self, iterable)\u001b[0m\n\u001b[0;32m    984\u001b[0m                 \u001b[0mself\u001b[0m\u001b[1;33m.\u001b[0m\u001b[0m_iterating\u001b[0m \u001b[1;33m=\u001b[0m \u001b[0mself\u001b[0m\u001b[1;33m.\u001b[0m\u001b[0m_original_iterator\u001b[0m \u001b[1;32mis\u001b[0m \u001b[1;32mnot\u001b[0m \u001b[1;32mNone\u001b[0m\u001b[1;33m\u001b[0m\u001b[0m\n\u001b[0;32m    985\u001b[0m \u001b[1;33m\u001b[0m\u001b[0m\n\u001b[1;32m--> 986\u001b[1;33m             \u001b[1;32mwhile\u001b[0m \u001b[0mself\u001b[0m\u001b[1;33m.\u001b[0m\u001b[0mdispatch_one_batch\u001b[0m\u001b[1;33m(\u001b[0m\u001b[0miterator\u001b[0m\u001b[1;33m)\u001b[0m\u001b[1;33m:\u001b[0m\u001b[1;33m\u001b[0m\u001b[0m\n\u001b[0m\u001b[0;32m    987\u001b[0m                 \u001b[1;32mpass\u001b[0m\u001b[1;33m\u001b[0m\u001b[0m\n\u001b[0;32m    988\u001b[0m \u001b[1;33m\u001b[0m\u001b[0m\n",
      "\u001b[1;32m~\\Anaconda2\\envs\\python3\\lib\\site-packages\\sklearn\\externals\\joblib\\parallel.py\u001b[0m in \u001b[0;36mdispatch_one_batch\u001b[1;34m(self, iterator)\u001b[0m\n\u001b[0;32m    823\u001b[0m                 \u001b[1;32mreturn\u001b[0m \u001b[1;32mFalse\u001b[0m\u001b[1;33m\u001b[0m\u001b[0m\n\u001b[0;32m    824\u001b[0m             \u001b[1;32melse\u001b[0m\u001b[1;33m:\u001b[0m\u001b[1;33m\u001b[0m\u001b[0m\n\u001b[1;32m--> 825\u001b[1;33m                 \u001b[0mself\u001b[0m\u001b[1;33m.\u001b[0m\u001b[0m_dispatch\u001b[0m\u001b[1;33m(\u001b[0m\u001b[0mtasks\u001b[0m\u001b[1;33m)\u001b[0m\u001b[1;33m\u001b[0m\u001b[0m\n\u001b[0m\u001b[0;32m    826\u001b[0m                 \u001b[1;32mreturn\u001b[0m \u001b[1;32mTrue\u001b[0m\u001b[1;33m\u001b[0m\u001b[0m\n\u001b[0;32m    827\u001b[0m \u001b[1;33m\u001b[0m\u001b[0m\n",
      "\u001b[1;32m~\\Anaconda2\\envs\\python3\\lib\\site-packages\\sklearn\\externals\\joblib\\parallel.py\u001b[0m in \u001b[0;36m_dispatch\u001b[1;34m(self, batch)\u001b[0m\n\u001b[0;32m    780\u001b[0m         \u001b[1;32mwith\u001b[0m \u001b[0mself\u001b[0m\u001b[1;33m.\u001b[0m\u001b[0m_lock\u001b[0m\u001b[1;33m:\u001b[0m\u001b[1;33m\u001b[0m\u001b[0m\n\u001b[0;32m    781\u001b[0m             \u001b[0mjob_idx\u001b[0m \u001b[1;33m=\u001b[0m \u001b[0mlen\u001b[0m\u001b[1;33m(\u001b[0m\u001b[0mself\u001b[0m\u001b[1;33m.\u001b[0m\u001b[0m_jobs\u001b[0m\u001b[1;33m)\u001b[0m\u001b[1;33m\u001b[0m\u001b[0m\n\u001b[1;32m--> 782\u001b[1;33m             \u001b[0mjob\u001b[0m \u001b[1;33m=\u001b[0m \u001b[0mself\u001b[0m\u001b[1;33m.\u001b[0m\u001b[0m_backend\u001b[0m\u001b[1;33m.\u001b[0m\u001b[0mapply_async\u001b[0m\u001b[1;33m(\u001b[0m\u001b[0mbatch\u001b[0m\u001b[1;33m,\u001b[0m \u001b[0mcallback\u001b[0m\u001b[1;33m=\u001b[0m\u001b[0mcb\u001b[0m\u001b[1;33m)\u001b[0m\u001b[1;33m\u001b[0m\u001b[0m\n\u001b[0m\u001b[0;32m    783\u001b[0m             \u001b[1;31m# A job can complete so quickly than its callback is\u001b[0m\u001b[1;33m\u001b[0m\u001b[1;33m\u001b[0m\u001b[0m\n\u001b[0;32m    784\u001b[0m             \u001b[1;31m# called before we get here, causing self._jobs to\u001b[0m\u001b[1;33m\u001b[0m\u001b[1;33m\u001b[0m\u001b[0m\n",
      "\u001b[1;32m~\\Anaconda2\\envs\\python3\\lib\\site-packages\\sklearn\\externals\\joblib\\_parallel_backends.py\u001b[0m in \u001b[0;36mapply_async\u001b[1;34m(self, func, callback)\u001b[0m\n\u001b[0;32m    180\u001b[0m     \u001b[1;32mdef\u001b[0m \u001b[0mapply_async\u001b[0m\u001b[1;33m(\u001b[0m\u001b[0mself\u001b[0m\u001b[1;33m,\u001b[0m \u001b[0mfunc\u001b[0m\u001b[1;33m,\u001b[0m \u001b[0mcallback\u001b[0m\u001b[1;33m=\u001b[0m\u001b[1;32mNone\u001b[0m\u001b[1;33m)\u001b[0m\u001b[1;33m:\u001b[0m\u001b[1;33m\u001b[0m\u001b[0m\n\u001b[0;32m    181\u001b[0m         \u001b[1;34m\"\"\"Schedule a func to be run\"\"\"\u001b[0m\u001b[1;33m\u001b[0m\u001b[0m\n\u001b[1;32m--> 182\u001b[1;33m         \u001b[0mresult\u001b[0m \u001b[1;33m=\u001b[0m \u001b[0mImmediateResult\u001b[0m\u001b[1;33m(\u001b[0m\u001b[0mfunc\u001b[0m\u001b[1;33m)\u001b[0m\u001b[1;33m\u001b[0m\u001b[0m\n\u001b[0m\u001b[0;32m    183\u001b[0m         \u001b[1;32mif\u001b[0m \u001b[0mcallback\u001b[0m\u001b[1;33m:\u001b[0m\u001b[1;33m\u001b[0m\u001b[0m\n\u001b[0;32m    184\u001b[0m             \u001b[0mcallback\u001b[0m\u001b[1;33m(\u001b[0m\u001b[0mresult\u001b[0m\u001b[1;33m)\u001b[0m\u001b[1;33m\u001b[0m\u001b[0m\n",
      "\u001b[1;32m~\\Anaconda2\\envs\\python3\\lib\\site-packages\\sklearn\\externals\\joblib\\_parallel_backends.py\u001b[0m in \u001b[0;36m__init__\u001b[1;34m(self, batch)\u001b[0m\n\u001b[0;32m    543\u001b[0m         \u001b[1;31m# Don't delay the application, to avoid keeping the input\u001b[0m\u001b[1;33m\u001b[0m\u001b[1;33m\u001b[0m\u001b[0m\n\u001b[0;32m    544\u001b[0m         \u001b[1;31m# arguments in memory\u001b[0m\u001b[1;33m\u001b[0m\u001b[1;33m\u001b[0m\u001b[0m\n\u001b[1;32m--> 545\u001b[1;33m         \u001b[0mself\u001b[0m\u001b[1;33m.\u001b[0m\u001b[0mresults\u001b[0m \u001b[1;33m=\u001b[0m \u001b[0mbatch\u001b[0m\u001b[1;33m(\u001b[0m\u001b[1;33m)\u001b[0m\u001b[1;33m\u001b[0m\u001b[0m\n\u001b[0m\u001b[0;32m    546\u001b[0m \u001b[1;33m\u001b[0m\u001b[0m\n\u001b[0;32m    547\u001b[0m     \u001b[1;32mdef\u001b[0m \u001b[0mget\u001b[0m\u001b[1;33m(\u001b[0m\u001b[0mself\u001b[0m\u001b[1;33m)\u001b[0m\u001b[1;33m:\u001b[0m\u001b[1;33m\u001b[0m\u001b[0m\n",
      "\u001b[1;32m~\\Anaconda2\\envs\\python3\\lib\\site-packages\\sklearn\\externals\\joblib\\parallel.py\u001b[0m in \u001b[0;36m__call__\u001b[1;34m(self)\u001b[0m\n\u001b[0;32m    259\u001b[0m         \u001b[1;32mwith\u001b[0m \u001b[0mparallel_backend\u001b[0m\u001b[1;33m(\u001b[0m\u001b[0mself\u001b[0m\u001b[1;33m.\u001b[0m\u001b[0m_backend\u001b[0m\u001b[1;33m)\u001b[0m\u001b[1;33m:\u001b[0m\u001b[1;33m\u001b[0m\u001b[0m\n\u001b[0;32m    260\u001b[0m             return [func(*args, **kwargs)\n\u001b[1;32m--> 261\u001b[1;33m                     for func, args, kwargs in self.items]\n\u001b[0m\u001b[0;32m    262\u001b[0m \u001b[1;33m\u001b[0m\u001b[0m\n\u001b[0;32m    263\u001b[0m     \u001b[1;32mdef\u001b[0m \u001b[0m__len__\u001b[0m\u001b[1;33m(\u001b[0m\u001b[0mself\u001b[0m\u001b[1;33m)\u001b[0m\u001b[1;33m:\u001b[0m\u001b[1;33m\u001b[0m\u001b[0m\n",
      "\u001b[1;32m~\\Anaconda2\\envs\\python3\\lib\\site-packages\\sklearn\\externals\\joblib\\parallel.py\u001b[0m in \u001b[0;36m<listcomp>\u001b[1;34m(.0)\u001b[0m\n\u001b[0;32m    259\u001b[0m         \u001b[1;32mwith\u001b[0m \u001b[0mparallel_backend\u001b[0m\u001b[1;33m(\u001b[0m\u001b[0mself\u001b[0m\u001b[1;33m.\u001b[0m\u001b[0m_backend\u001b[0m\u001b[1;33m)\u001b[0m\u001b[1;33m:\u001b[0m\u001b[1;33m\u001b[0m\u001b[0m\n\u001b[0;32m    260\u001b[0m             return [func(*args, **kwargs)\n\u001b[1;32m--> 261\u001b[1;33m                     for func, args, kwargs in self.items]\n\u001b[0m\u001b[0;32m    262\u001b[0m \u001b[1;33m\u001b[0m\u001b[0m\n\u001b[0;32m    263\u001b[0m     \u001b[1;32mdef\u001b[0m \u001b[0m__len__\u001b[0m\u001b[1;33m(\u001b[0m\u001b[0mself\u001b[0m\u001b[1;33m)\u001b[0m\u001b[1;33m:\u001b[0m\u001b[1;33m\u001b[0m\u001b[0m\n",
      "\u001b[1;32m~\\Anaconda2\\envs\\python3\\lib\\site-packages\\sklearn\\model_selection\\_validation.py\u001b[0m in \u001b[0;36m_fit_and_score\u001b[1;34m(estimator, X, y, scorer, train, test, verbose, parameters, fit_params, return_train_score, return_parameters, return_n_test_samples, return_times, return_estimator, error_score)\u001b[0m\n\u001b[0;32m    526\u001b[0m             \u001b[0mestimator\u001b[0m\u001b[1;33m.\u001b[0m\u001b[0mfit\u001b[0m\u001b[1;33m(\u001b[0m\u001b[0mX_train\u001b[0m\u001b[1;33m,\u001b[0m \u001b[1;33m**\u001b[0m\u001b[0mfit_params\u001b[0m\u001b[1;33m)\u001b[0m\u001b[1;33m\u001b[0m\u001b[0m\n\u001b[0;32m    527\u001b[0m         \u001b[1;32melse\u001b[0m\u001b[1;33m:\u001b[0m\u001b[1;33m\u001b[0m\u001b[0m\n\u001b[1;32m--> 528\u001b[1;33m             \u001b[0mestimator\u001b[0m\u001b[1;33m.\u001b[0m\u001b[0mfit\u001b[0m\u001b[1;33m(\u001b[0m\u001b[0mX_train\u001b[0m\u001b[1;33m,\u001b[0m \u001b[0my_train\u001b[0m\u001b[1;33m,\u001b[0m \u001b[1;33m**\u001b[0m\u001b[0mfit_params\u001b[0m\u001b[1;33m)\u001b[0m\u001b[1;33m\u001b[0m\u001b[0m\n\u001b[0m\u001b[0;32m    529\u001b[0m \u001b[1;33m\u001b[0m\u001b[0m\n\u001b[0;32m    530\u001b[0m     \u001b[1;32mexcept\u001b[0m \u001b[0mException\u001b[0m \u001b[1;32mas\u001b[0m \u001b[0me\u001b[0m\u001b[1;33m:\u001b[0m\u001b[1;33m\u001b[0m\u001b[0m\n",
      "\u001b[1;32m~\\Anaconda2\\envs\\python3\\lib\\site-packages\\keras\\wrappers\\scikit_learn.py\u001b[0m in \u001b[0;36mfit\u001b[1;34m(self, x, y, **kwargs)\u001b[0m\n\u001b[0;32m    150\u001b[0m         \u001b[0mfit_args\u001b[0m\u001b[1;33m.\u001b[0m\u001b[0mupdate\u001b[0m\u001b[1;33m(\u001b[0m\u001b[0mkwargs\u001b[0m\u001b[1;33m)\u001b[0m\u001b[1;33m\u001b[0m\u001b[0m\n\u001b[0;32m    151\u001b[0m \u001b[1;33m\u001b[0m\u001b[0m\n\u001b[1;32m--> 152\u001b[1;33m         \u001b[0mhistory\u001b[0m \u001b[1;33m=\u001b[0m \u001b[0mself\u001b[0m\u001b[1;33m.\u001b[0m\u001b[0mmodel\u001b[0m\u001b[1;33m.\u001b[0m\u001b[0mfit\u001b[0m\u001b[1;33m(\u001b[0m\u001b[0mx\u001b[0m\u001b[1;33m,\u001b[0m \u001b[0my\u001b[0m\u001b[1;33m,\u001b[0m \u001b[1;33m**\u001b[0m\u001b[0mfit_args\u001b[0m\u001b[1;33m)\u001b[0m\u001b[1;33m\u001b[0m\u001b[0m\n\u001b[0m\u001b[0;32m    153\u001b[0m \u001b[1;33m\u001b[0m\u001b[0m\n\u001b[0;32m    154\u001b[0m         \u001b[1;32mreturn\u001b[0m \u001b[0mhistory\u001b[0m\u001b[1;33m\u001b[0m\u001b[0m\n",
      "\u001b[1;32m~\\Anaconda2\\envs\\python3\\lib\\site-packages\\keras\\engine\\training.py\u001b[0m in \u001b[0;36mfit\u001b[1;34m(self, x, y, batch_size, epochs, verbose, callbacks, validation_split, validation_data, shuffle, class_weight, sample_weight, initial_epoch, steps_per_epoch, validation_steps, **kwargs)\u001b[0m\n\u001b[0;32m   1037\u001b[0m                                         \u001b[0minitial_epoch\u001b[0m\u001b[1;33m=\u001b[0m\u001b[0minitial_epoch\u001b[0m\u001b[1;33m,\u001b[0m\u001b[1;33m\u001b[0m\u001b[0m\n\u001b[0;32m   1038\u001b[0m                                         \u001b[0msteps_per_epoch\u001b[0m\u001b[1;33m=\u001b[0m\u001b[0msteps_per_epoch\u001b[0m\u001b[1;33m,\u001b[0m\u001b[1;33m\u001b[0m\u001b[0m\n\u001b[1;32m-> 1039\u001b[1;33m                                         validation_steps=validation_steps)\n\u001b[0m\u001b[0;32m   1040\u001b[0m \u001b[1;33m\u001b[0m\u001b[0m\n\u001b[0;32m   1041\u001b[0m     def evaluate(self, x=None, y=None,\n",
      "\u001b[1;32m~\\Anaconda2\\envs\\python3\\lib\\site-packages\\keras\\engine\\training_arrays.py\u001b[0m in \u001b[0;36mfit_loop\u001b[1;34m(model, f, ins, out_labels, batch_size, epochs, verbose, callbacks, val_f, val_ins, shuffle, callback_metrics, initial_epoch, steps_per_epoch, validation_steps)\u001b[0m\n\u001b[0;32m    197\u001b[0m                     \u001b[0mins_batch\u001b[0m\u001b[1;33m[\u001b[0m\u001b[0mi\u001b[0m\u001b[1;33m]\u001b[0m \u001b[1;33m=\u001b[0m \u001b[0mins_batch\u001b[0m\u001b[1;33m[\u001b[0m\u001b[0mi\u001b[0m\u001b[1;33m]\u001b[0m\u001b[1;33m.\u001b[0m\u001b[0mtoarray\u001b[0m\u001b[1;33m(\u001b[0m\u001b[1;33m)\u001b[0m\u001b[1;33m\u001b[0m\u001b[0m\n\u001b[0;32m    198\u001b[0m \u001b[1;33m\u001b[0m\u001b[0m\n\u001b[1;32m--> 199\u001b[1;33m                 \u001b[0mouts\u001b[0m \u001b[1;33m=\u001b[0m \u001b[0mf\u001b[0m\u001b[1;33m(\u001b[0m\u001b[0mins_batch\u001b[0m\u001b[1;33m)\u001b[0m\u001b[1;33m\u001b[0m\u001b[0m\n\u001b[0m\u001b[0;32m    200\u001b[0m                 \u001b[0mouts\u001b[0m \u001b[1;33m=\u001b[0m \u001b[0mto_list\u001b[0m\u001b[1;33m(\u001b[0m\u001b[0mouts\u001b[0m\u001b[1;33m)\u001b[0m\u001b[1;33m\u001b[0m\u001b[0m\n\u001b[0;32m    201\u001b[0m                 \u001b[1;32mfor\u001b[0m \u001b[0ml\u001b[0m\u001b[1;33m,\u001b[0m \u001b[0mo\u001b[0m \u001b[1;32min\u001b[0m \u001b[0mzip\u001b[0m\u001b[1;33m(\u001b[0m\u001b[0mout_labels\u001b[0m\u001b[1;33m,\u001b[0m \u001b[0mouts\u001b[0m\u001b[1;33m)\u001b[0m\u001b[1;33m:\u001b[0m\u001b[1;33m\u001b[0m\u001b[0m\n",
      "\u001b[1;32m~\\Anaconda2\\envs\\python3\\lib\\site-packages\\keras\\backend\\tensorflow_backend.py\u001b[0m in \u001b[0;36m__call__\u001b[1;34m(self, inputs)\u001b[0m\n\u001b[0;32m   2713\u001b[0m                 \u001b[1;32mreturn\u001b[0m \u001b[0mself\u001b[0m\u001b[1;33m.\u001b[0m\u001b[0m_legacy_call\u001b[0m\u001b[1;33m(\u001b[0m\u001b[0minputs\u001b[0m\u001b[1;33m)\u001b[0m\u001b[1;33m\u001b[0m\u001b[0m\n\u001b[0;32m   2714\u001b[0m \u001b[1;33m\u001b[0m\u001b[0m\n\u001b[1;32m-> 2715\u001b[1;33m             \u001b[1;32mreturn\u001b[0m \u001b[0mself\u001b[0m\u001b[1;33m.\u001b[0m\u001b[0m_call\u001b[0m\u001b[1;33m(\u001b[0m\u001b[0minputs\u001b[0m\u001b[1;33m)\u001b[0m\u001b[1;33m\u001b[0m\u001b[0m\n\u001b[0m\u001b[0;32m   2716\u001b[0m         \u001b[1;32melse\u001b[0m\u001b[1;33m:\u001b[0m\u001b[1;33m\u001b[0m\u001b[0m\n\u001b[0;32m   2717\u001b[0m             \u001b[1;32mif\u001b[0m \u001b[0mpy_any\u001b[0m\u001b[1;33m(\u001b[0m\u001b[0mis_tensor\u001b[0m\u001b[1;33m(\u001b[0m\u001b[0mx\u001b[0m\u001b[1;33m)\u001b[0m \u001b[1;32mfor\u001b[0m \u001b[0mx\u001b[0m \u001b[1;32min\u001b[0m \u001b[0minputs\u001b[0m\u001b[1;33m)\u001b[0m\u001b[1;33m:\u001b[0m\u001b[1;33m\u001b[0m\u001b[0m\n",
      "\u001b[1;32m~\\Anaconda2\\envs\\python3\\lib\\site-packages\\keras\\backend\\tensorflow_backend.py\u001b[0m in \u001b[0;36m_call\u001b[1;34m(self, inputs)\u001b[0m\n\u001b[0;32m   2634\u001b[0m             \u001b[1;32mraise\u001b[0m \u001b[0mTypeError\u001b[0m\u001b[1;33m(\u001b[0m\u001b[1;34m'`inputs` should be a list or tuple.'\u001b[0m\u001b[1;33m)\u001b[0m\u001b[1;33m\u001b[0m\u001b[0m\n\u001b[0;32m   2635\u001b[0m \u001b[1;33m\u001b[0m\u001b[0m\n\u001b[1;32m-> 2636\u001b[1;33m         \u001b[0msession\u001b[0m \u001b[1;33m=\u001b[0m \u001b[0mget_session\u001b[0m\u001b[1;33m(\u001b[0m\u001b[1;33m)\u001b[0m\u001b[1;33m\u001b[0m\u001b[0m\n\u001b[0m\u001b[0;32m   2637\u001b[0m         \u001b[0mfeed_arrays\u001b[0m \u001b[1;33m=\u001b[0m \u001b[1;33m[\u001b[0m\u001b[1;33m]\u001b[0m\u001b[1;33m\u001b[0m\u001b[0m\n\u001b[0;32m   2638\u001b[0m         \u001b[0marray_vals\u001b[0m \u001b[1;33m=\u001b[0m \u001b[1;33m[\u001b[0m\u001b[1;33m]\u001b[0m\u001b[1;33m\u001b[0m\u001b[0m\n",
      "\u001b[1;32m~\\Anaconda2\\envs\\python3\\lib\\site-packages\\keras\\backend\\tensorflow_backend.py\u001b[0m in \u001b[0;36mget_session\u001b[1;34m()\u001b[0m\n\u001b[0;32m    191\u001b[0m             \u001b[0mcandidate_vars\u001b[0m \u001b[1;33m=\u001b[0m \u001b[1;33m[\u001b[0m\u001b[1;33m]\u001b[0m\u001b[1;33m\u001b[0m\u001b[0m\n\u001b[0;32m    192\u001b[0m             \u001b[1;32mfor\u001b[0m \u001b[0mv\u001b[0m \u001b[1;32min\u001b[0m \u001b[0mvariables\u001b[0m\u001b[1;33m:\u001b[0m\u001b[1;33m\u001b[0m\u001b[0m\n\u001b[1;32m--> 193\u001b[1;33m                 \u001b[1;32mif\u001b[0m \u001b[1;32mnot\u001b[0m \u001b[0mgetattr\u001b[0m\u001b[1;33m(\u001b[0m\u001b[0mv\u001b[0m\u001b[1;33m,\u001b[0m \u001b[1;34m'_keras_initialized'\u001b[0m\u001b[1;33m,\u001b[0m \u001b[1;32mFalse\u001b[0m\u001b[1;33m)\u001b[0m\u001b[1;33m:\u001b[0m\u001b[1;33m\u001b[0m\u001b[0m\n\u001b[0m\u001b[0;32m    194\u001b[0m                     \u001b[0mcandidate_vars\u001b[0m\u001b[1;33m.\u001b[0m\u001b[0mappend\u001b[0m\u001b[1;33m(\u001b[0m\u001b[0mv\u001b[0m\u001b[1;33m)\u001b[0m\u001b[1;33m\u001b[0m\u001b[0m\n\u001b[0;32m    195\u001b[0m             \u001b[1;32mif\u001b[0m \u001b[0mcandidate_vars\u001b[0m\u001b[1;33m:\u001b[0m\u001b[1;33m\u001b[0m\u001b[0m\n",
      "\u001b[1;31mKeyboardInterrupt\u001b[0m: "
     ]
    }
   ],
   "source": [
    "estimator = KerasRegressor(build_fn=abs_model, epochs=100, batch_size=32, verbose=0)\n",
    "kfold = KFold(n_splits=10, random_state=seed)\n",
    "results = cross_val_score(estimator, X, Y, cv=kfold, verbose=3)\n",
    "print(\"Results: Mean: %.2f \\n MSE: (%.2f)\" % (results.mean(), results.std()))"
   ]
  },
  {
   "cell_type": "code",
   "execution_count": null,
   "metadata": {
    "collapsed": true
   },
   "outputs": [],
   "source": []
  }
 ],
 "metadata": {
  "kernelspec": {
   "display_name": "Python 3",
   "language": "python",
   "name": "python3"
  },
  "language_info": {
   "codemirror_mode": {
    "name": "ipython",
    "version": 3
   },
   "file_extension": ".py",
   "mimetype": "text/x-python",
   "name": "python",
   "nbconvert_exporter": "python",
   "pygments_lexer": "ipython3",
   "version": "3.6.6"
  }
 },
 "nbformat": 4,
 "nbformat_minor": 2
}
